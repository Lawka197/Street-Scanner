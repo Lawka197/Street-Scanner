{
 "cells": [
  {
   "cell_type": "code",
   "execution_count": 1,
   "id": "c2493c06-4648-4dbd-b5f2-2ef48345031f",
   "metadata": {},
   "outputs": [
    {
     "name": "stdout",
     "output_type": "stream",
     "text": [
      "Index([0, 1, 2, 3, 4, 5, 6], dtype='int64')\n"
     ]
    }
   ],
   "source": [
    "import pandas as pd\n",
    "from scipy import stats\n",
    "\n",
    "# Datensatz laden\n",
    "data = pd.read_csv(\"/Users/olivialawinski/IKT/analytics/Semesterabgabe/ikt-semesterabgabe/combined_dataset_sorted.csv\", delimiter=';', header=None,low_memory=False)\n",
    "\n",
    "print(data.columns)"
   ]
  },
  {
   "cell_type": "code",
   "execution_count": 2,
   "id": "26f8d14b-254c-4009-8f8d-91682e2799ae",
   "metadata": {},
   "outputs": [
    {
     "name": "stdout",
     "output_type": "stream",
     "text": [
      "                    0              1              2                    3  \\\n",
      "0          EPOCH_TIME    DEVICE_NAME    SENSOR_TYPE    MEASUREMENT_VALUE   \n",
      "1       #[EPOCH_TIME]  [DEVICE_NAME]  [SENSOR_TYPE]  [MEASUREMENT_VALUE]   \n",
      "2       1629745197972    LOCAL_PHONE              Y                   42   \n",
      "3       1629745197972    LOCAL_PHONE             80                 SL_0   \n",
      "4       1629745197972    LOCAL_PHONE             83                 RT_O   \n",
      "...               ...            ...            ...                  ...   \n",
      "424236  1630527720257    LOCAL_PHONE             20       -0.72,0.05,0.0   \n",
      "424237  1630527720266    LOCAL_PHONE             20     -0.64,0.06,-0.19   \n",
      "424238  1630527720276    LOCAL_PHONE             20        -0.72,0.1,0.2   \n",
      "424239  1630527720286    LOCAL_PHONE             20      -0.7,-0.03,0.05   \n",
      "424240  1630527720299    LOCAL_PHONE             20      -0.52,0.18,0.28   \n",
      "\n",
      "              4         5              6  \n",
      "0       GPS_LAT  GPS_LONG  SOURCE_FOLDER  \n",
      "1           NaN       NaN    bumpy_roads  \n",
      "2           NaN       NaN    bumpy_roads  \n",
      "3           NaN       NaN    bumpy_roads  \n",
      "4           NaN       NaN    bumpy_roads  \n",
      "...         ...       ...            ...  \n",
      "424236      NaN       NaN   flat_streets  \n",
      "424237      NaN       NaN   flat_streets  \n",
      "424238      NaN       NaN   flat_streets  \n",
      "424239      NaN       NaN   flat_streets  \n",
      "424240      NaN       NaN   flat_streets  \n",
      "\n",
      "[424241 rows x 7 columns]\n"
     ]
    }
   ],
   "source": [
    "print(data)"
   ]
  },
  {
   "cell_type": "code",
   "execution_count": 3,
   "id": "33d358ac-a9e1-40db-8df7-05254a86fc20",
   "metadata": {},
   "outputs": [
    {
     "name": "stdout",
     "output_type": "stream",
     "text": [
      "        acceleration_x  acceleration_y  acceleration_z source_folder\n",
      "10                1.16           -0.59           -0.56   bumpy_roads\n",
      "11               -0.32            0.39            0.16   bumpy_roads\n",
      "12                0.30           -0.50           -1.04   bumpy_roads\n",
      "13                0.91            0.21           -0.40   bumpy_roads\n",
      "14               -0.82           -0.03            0.08   bumpy_roads\n",
      "...                ...             ...             ...           ...\n",
      "424236           -0.72            0.05            0.00  flat_streets\n",
      "424237           -0.64            0.06           -0.19  flat_streets\n",
      "424238           -0.72            0.10            0.20  flat_streets\n",
      "424239           -0.70           -0.03            0.05  flat_streets\n",
      "424240           -0.52            0.18            0.28  flat_streets\n",
      "\n",
      "[390874 rows x 4 columns]\n"
     ]
    }
   ],
   "source": [
    "# relevante Spalten (Sensor Type 20: Acceleration) filtern \n",
    "acceleration_data = data[data[2] == '20']\n",
    "\n",
    "# die X, Y, Z-Werte extrahieren \n",
    "acceleration_values = acceleration_data[3].str.split(',', expand=True).astype(float)\n",
    "acceleration_values.columns = ['acceleration_x', 'acceleration_y', 'acceleration_z']\n",
    "\n",
    "# source_folder-Spalte hinzufügen\n",
    "acceleration_values['source_folder'] = acceleration_data[6]\n",
    "\n",
    "# Ausreißer erkennen und entfernen (z-Score)\n",
    "z_scores = stats.zscore(acceleration_values[['acceleration_x', 'acceleration_y', 'acceleration_z']])\n",
    "filtered_data = acceleration_values[(abs(z_scores) < 3).all(axis=1)]\n",
    "\n",
    "# Daten nach der Bereinigung anzeigen\n",
    "print(filtered_data)"
   ]
  },
  {
   "cell_type": "code",
   "execution_count": 4,
   "id": "2b3ca8fb-0034-4d45-9c4d-b58b3649133b",
   "metadata": {},
   "outputs": [],
   "source": [
    "# fehlende Werte mit .loc[] entfernen \n",
    "filtered_data = filtered_data.loc[filtered_data.notnull().all(axis=1)]"
   ]
  },
  {
   "cell_type": "code",
   "execution_count": 8,
   "id": "5faf1048-ceb0-48dd-9b1c-8669b4bcaacc",
   "metadata": {},
   "outputs": [
    {
     "name": "stdout",
     "output_type": "stream",
     "text": [
      "Anzahl der Labels: 7816, Anzahl der Features: 7816\n"
     ]
    }
   ],
   "source": [
    "import pandas as pd\n",
    "import numpy as np\n",
    "\n",
    "# Z-Beschleunigungswerte aus den gefilterten Daten \n",
    "data = filtered_data['acceleration_z'].values  \n",
    "straßentypen = filtered_data['source_folder'].values \n",
    "\n",
    "# Sliding Window Parameter\n",
    "fenstergröße = 100  # 100 Werte (entspricht ca. 1 Sekunde)\n",
    "schrittweite = 50   # Überlappung von 50 Werten\n",
    "\n",
    "# Sliding Window Funktion anwenden\n",
    "def sliding_window(data, fenstergröße, schrittweite):\n",
    "    result = []\n",
    "    for i in range(0, len(data) - fenstergröße + 1, schrittweite):\n",
    "        window = data[i:i + fenstergröße]\n",
    "        result.append(window)\n",
    "    return result\n",
    "\n",
    "# Sliding Window anwenden auf Z-Beschleunigungswerte\n",
    "windows = sliding_window(data, fenstergröße, schrittweite)\n",
    "\n",
    "# Feature Engineering für jedes Fenster --> Durchschnitt und Standardabweichung\n",
    "feature_list = []\n",
    "for window in windows:\n",
    "    mean_value = np.mean(window)\n",
    "    std_value = np.std(window)\n",
    "    feature_list.append((mean_value, std_value))\n",
    "\n",
    "# Die berechneten Features in einem DataFrame speichern\n",
    "features_df = pd.DataFrame(feature_list, columns=['Durchschnitt', 'Standardabweichung'])\n",
    "\n",
    "# Labels für die Sliding Windows zuweisen\n",
    "labels_for_windows = []\n",
    "\n",
    "# Sliding Window auf Straßentypen anwenden\n",
    "for i in range(0, len(straßentypen) - fenstergröße + 1, schrittweite):\n",
    "    window_straßentyp = straßentypen[i:i + fenstergröße]\n",
    "    \n",
    "    # Nehme den häufigsten Straßentyp im Fenster als Label\n",
    "    unique, counts = np.unique(window_straßentyp, return_counts=True)\n",
    "    majority_type = unique[np.argmax(counts)]\n",
    "    \n",
    "    # Füge das Label dem Fenster hinzu\n",
    "    labels_for_windows.append(majority_type)\n",
    "\n",
    "# Labels in eine Series konvertieren\n",
    "labels = pd.Series(labels_for_windows)\n",
    "\n",
    "# Die Anzahl der Labels und Features vergleichen\n",
    "print(f\"Anzahl der Labels: {len(labels)}, Anzahl der Features: {len(features_df)}\")"
   ]
  },
  {
   "cell_type": "code",
   "execution_count": 9,
   "id": "a7b57ae0-792f-43c2-92cd-4984d4842679",
   "metadata": {},
   "outputs": [
    {
     "name": "stdout",
     "output_type": "stream",
     "text": [
      "KNN Model Evaluation\n",
      "[[  56   82  114]\n",
      " [ 106  440  204]\n",
      " [ 107  151 1085]]\n",
      "                    precision    recall  f1-score   support\n",
      "\n",
      "       bumpy_roads       0.21      0.22      0.21       252\n",
      "cobblestone_street       0.65      0.59      0.62       750\n",
      "      flat_streets       0.77      0.81      0.79      1343\n",
      "\n",
      "          accuracy                           0.67      2345\n",
      "         macro avg       0.55      0.54      0.54      2345\n",
      "      weighted avg       0.67      0.67      0.67      2345\n",
      "\n",
      "Accuracy: 0.6742004264392324\n",
      "Random Forest Model Evaluation\n",
      "[[  21   91  140]\n",
      " [  37  466  247]\n",
      " [  32  158 1153]]\n",
      "                    precision    recall  f1-score   support\n",
      "\n",
      "       bumpy_roads       0.23      0.08      0.12       252\n",
      "cobblestone_street       0.65      0.62      0.64       750\n",
      "      flat_streets       0.75      0.86      0.80      1343\n",
      "\n",
      "          accuracy                           0.70      2345\n",
      "         macro avg       0.54      0.52      0.52      2345\n",
      "      weighted avg       0.66      0.70      0.67      2345\n",
      "\n",
      "Accuracy: 0.6993603411513859\n"
     ]
    }
   ],
   "source": [
    "import pandas as pd\n",
    "from sklearn.model_selection import train_test_split\n",
    "from sklearn.neighbors import KNeighborsClassifier\n",
    "from sklearn.ensemble import RandomForestClassifier\n",
    "from sklearn.metrics import classification_report, confusion_matrix, accuracy_score\n",
    "\n",
    "\n",
    "feature_list = []\n",
    "for window in windows:\n",
    "    mean_value = np.mean(window)\n",
    "    std_value = np.std(window)\n",
    "    feature_list.append((mean_value, std_value))\n",
    "\n",
    "# berechneten Features in einem DataFrame speichern\n",
    "features_df = pd.DataFrame(feature_list, columns=['Durchschnitt', 'Standardabweichung'])\n",
    "\n",
    "# Mapping der Straßentypen auf numerische Labels\n",
    "label_mapping = {\n",
    "    'bumpy_roads': 1,\n",
    "    'cobblestone_street': 2,\n",
    "    'flat_streets': 3\n",
    "}\n",
    "\n",
    "# Sicherstellen, dass die Labels der Anzahl der Sliding Windows entsprechen\n",
    "labels_for_windows = []\n",
    "\n",
    "# Sliding Windows basierend auf dem Straßentyp anwenden\n",
    "for i in range(0, len(filtered_data['source_folder']) - fenstergröße + 1, schrittweite):\n",
    "    window_labels = filtered_data['source_folder'][i:i + fenstergröße]\n",
    "    \n",
    "    # Verwende den häufigsten Straßentyp innerhalb des Sliding Windows\n",
    "    unique, counts = np.unique(window_labels, return_counts=True)\n",
    "    majority_type = unique[np.argmax(counts)]\n",
    "    labels_for_windows.append(majority_type)\n",
    "\n",
    "# Labels als Series\n",
    "labels = pd.Series(labels_for_windows)\n",
    "\n",
    "# 1. Daten in Trainings- und Testdatensatz splitten\n",
    "X_train, X_test, y_train, y_test = train_test_split(features_df, labels, test_size=0.3, random_state=42)\n",
    "\n",
    "# 2. KNN-Modell trainieren\n",
    "knn_model = KNeighborsClassifier(n_neighbors=3)  # k=3, kann optimiert werden\n",
    "knn_model.fit(X_train, y_train)\n",
    "\n",
    "# 3. Random Forest-Modell trainieren\n",
    "rf_model = RandomForestClassifier(n_estimators=100, random_state=42)\n",
    "rf_model.fit(X_train, y_train)\n",
    "\n",
    "# 4. Modellvorhersagen auf dem Testdatensatz\n",
    "knn_predictions = knn_model.predict(X_test)\n",
    "rf_predictions = rf_model.predict(X_test)\n",
    "\n",
    "# 5. Modellbewertung - KNN\n",
    "print(\"KNN Model Evaluation\")\n",
    "print(confusion_matrix(y_test, knn_predictions))\n",
    "print(classification_report(y_test, knn_predictions))\n",
    "print(\"Accuracy:\", accuracy_score(y_test, knn_predictions))\n",
    "\n",
    "# 6. Modellbewertung - Random Forest\n",
    "print(\"Random Forest Model Evaluation\")\n",
    "print(confusion_matrix(y_test, rf_predictions))\n",
    "print(classification_report(y_test, rf_predictions))\n",
    "print(\"Accuracy:\", accuracy_score(y_test, rf_predictions))"
   ]
  },
  {
   "cell_type": "code",
   "execution_count": null,
   "id": "f20304ee-3443-483b-bfcc-5d418992113b",
   "metadata": {},
   "outputs": [],
   "source": []
  }
 ],
 "metadata": {
  "kernelspec": {
   "display_name": "Python 3 (ipykernel)",
   "language": "python",
   "name": "python3"
  },
  "language_info": {
   "codemirror_mode": {
    "name": "ipython",
    "version": 3
   },
   "file_extension": ".py",
   "mimetype": "text/x-python",
   "name": "python",
   "nbconvert_exporter": "python",
   "pygments_lexer": "ipython3",
   "version": "3.12.6"
  }
 },
 "nbformat": 4,
 "nbformat_minor": 5
}
