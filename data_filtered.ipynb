{
 "cells": [
  {
   "cell_type": "code",
   "execution_count": 2,
   "id": "d4f104f1-0235-432f-b5c3-62c41b4146be",
   "metadata": {},
   "outputs": [
    {
     "name": "stdout",
     "output_type": "stream",
     "text": [
      "Daten wurden erfolgreich in measurement_data/combined_dataset_with_ab.csv gespeichert.\n"
     ]
    }
   ],
   "source": [
    "import os\n",
    "import pandas as pd\n",
    "\n",
    "# Pfad zum Hauptordner\n",
    "root_directory = 'measurement_data'\n",
    "\n",
    "# Initialisieren des DataFrames\n",
    "# Haupt-DataFrames\n",
    "df = pd.DataFrame(columns=[\"EPOCH_TIME\", \"DEVICE_NAME\", \"SENSOR_TYPE\", \"MEASUREMENT_VALUE\", \"GPS_LAT\", \"GPS_LONG\", \"SOURCE_FOLDER\", \"Z_VALUE\"])\n",
    "\n",
    "# Funktion zum Extrahieren der Daten\n",
    "def extract_data(file_path, source_folder):\n",
    "    data = []\n",
    "    gps_data = {}  # Zwischenablage für GPS-Daten\n",
    "    with open(file_path, 'r') as file:\n",
    "        for line in file:\n",
    "            line = line.strip()\n",
    "            if line:\n",
    "                parts = line.split(';')\n",
    "                if len(parts) == 4:\n",
    "                    epoch_time, device_name, sensor_type, measurement_value = parts\n",
    "                    if sensor_type == \"AB\":\n",
    "                        gps_lat, gps_long = measurement_value.split(',')\n",
    "                        gps_data[epoch_time] = (gps_lat, gps_long)\n",
    "                        # die Zeile mit GPS-Daten ebenfalls in die data-Liste einfügen\n",
    "                        data.append([epoch_time, device_name, sensor_type, measurement_value, gps_lat, gps_long, source_folder])\n",
    "                    elif sensor_type == \"20\":\n",
    "                        x, y, z = measurement_value.split(',')\n",
    "                        # die Zeile mit z_daten ebenfalls in die data-Liste einfügen\n",
    "                        data.append([epoch_time, device_name, sensor_type, measurement_value, None, None, source_folder, z])\n",
    "                    else:\n",
    "                        gps_lat, gps_long = gps_data.get(epoch_time, (None, None))\n",
    "                        data.append([epoch_time, device_name, sensor_type, measurement_value, gps_lat, gps_long, source_folder])\n",
    "    return data\n",
    "\n",
    "# Rekursiv alle txt-Dateien durchsuchen\n",
    "for subdir, _, files in os.walk(root_directory):\n",
    "    for file in files:\n",
    "        if file.endswith('.txt'):\n",
    "            file_path = os.path.join(subdir, file)\n",
    "            source_folder = os.path.relpath(subdir, root_directory)\n",
    "            df = pd.concat([df, pd.DataFrame(extract_data(file_path, source_folder), columns=df.columns)], ignore_index=True)\n",
    "\n",
    "# Speichern in CSV\n",
    "output_file = 'measurement_data/combined_dataset_with_ab.csv'\n",
    "df.to_csv(output_file, sep=';', index=False)\n",
    "\n",
    "print(f'Daten wurden erfolgreich in {output_file} gespeichert.')\n"
   ]
  },
  {
   "cell_type": "code",
   "execution_count": 5,
   "id": "0ab2dafe",
   "metadata": {},
   "outputs": [
    {
     "name": "stdout",
     "output_type": "stream",
     "text": [
      "Gefilterte Daten wurden erfolgreich in measurement_data/filtered_dataset.csv gespeichert.\n"
     ]
    }
   ],
   "source": [
    "# Daten nach Sensortyp 20 filtern\n",
    "df_filtered = df[df[\"SENSOR_TYPE\"] == \"20\"]\n",
    "\n",
    "# Spalten löschen bis auf epoch_time, measurement_value, source_folder, z\n",
    "df_filtered = df_filtered[[\"EPOCH_TIME\", \"SOURCE_FOLDER\", \"Z_VALUE\"]]\n",
    "\n",
    "output_filtered_file = 'measurement_data/filtered_dataset.csv'\n",
    "df_filtered.to_csv(output_filtered_file, sep=\";\", index=False)\n",
    "\n",
    "print(f'Gefilterte Daten wurden erfolgreich in {output_filtered_file} gespeichert.')"
   ]
  },
  {
   "cell_type": "code",
   "execution_count": 7,
   "id": "d856951f-e28d-4581-a69f-62612b4ac2d8",
   "metadata": {},
   "outputs": [
    {
     "name": "stdout",
     "output_type": "stream",
     "text": [
      "<bound method NDFrame.head of            EPOCH_TIME SOURCE_FOLDER Z_VALUE\n",
      "9       1629745198027   bumpy_roads   -0.56\n",
      "10      1629745198028   bumpy_roads    0.16\n",
      "11      1629745198029   bumpy_roads   -1.04\n",
      "12      1629745198029   bumpy_roads    -0.4\n",
      "13      1629745198029   bumpy_roads    0.08\n",
      "...               ...           ...     ...\n",
      "424235  1630527720257  flat_streets     0.0\n",
      "424236  1630527720266  flat_streets   -0.19\n",
      "424237  1630527720276  flat_streets     0.2\n",
      "424238  1630527720286  flat_streets    0.05\n",
      "424239  1630527720299  flat_streets    0.28\n",
      "\n",
      "[411543 rows x 3 columns]>\n"
     ]
    }
   ],
   "source": [
    "# Hier lassen wir uns die ersten 10 Zeilen ausgeben, um einen ersten Eindruck zubekommen\n",
    "\n",
    "df_filtered.head(10)\n",
    "\n",
    "print(df_filtered.head)"
   ]
  },
  {
   "cell_type": "code",
   "execution_count": 8,
   "id": "bd28a103-5072-405c-82c2-962ba60c6e98",
   "metadata": {},
   "outputs": [
    {
     "data": {
      "text/html": [
       "<div>\n",
       "<style scoped>\n",
       "    .dataframe tbody tr th:only-of-type {\n",
       "        vertical-align: middle;\n",
       "    }\n",
       "\n",
       "    .dataframe tbody tr th {\n",
       "        vertical-align: top;\n",
       "    }\n",
       "\n",
       "    .dataframe thead th {\n",
       "        text-align: right;\n",
       "    }\n",
       "</style>\n",
       "<table border=\"1\" class=\"dataframe\">\n",
       "  <thead>\n",
       "    <tr style=\"text-align: right;\">\n",
       "      <th></th>\n",
       "      <th>EPOCH_TIME</th>\n",
       "      <th>SOURCE_FOLDER</th>\n",
       "      <th>Z_VALUE</th>\n",
       "    </tr>\n",
       "  </thead>\n",
       "  <tbody>\n",
       "    <tr>\n",
       "      <th>count</th>\n",
       "      <td>411543</td>\n",
       "      <td>411543</td>\n",
       "      <td>411543</td>\n",
       "    </tr>\n",
       "    <tr>\n",
       "      <th>unique</th>\n",
       "      <td>411260</td>\n",
       "      <td>3</td>\n",
       "      <td>1120</td>\n",
       "    </tr>\n",
       "    <tr>\n",
       "      <th>top</th>\n",
       "      <td>1630851379101</td>\n",
       "      <td>flat_streets</td>\n",
       "      <td>0.14</td>\n",
       "    </tr>\n",
       "    <tr>\n",
       "      <th>freq</th>\n",
       "      <td>6</td>\n",
       "      <td>231240</td>\n",
       "      <td>3320</td>\n",
       "    </tr>\n",
       "  </tbody>\n",
       "</table>\n",
       "</div>"
      ],
      "text/plain": [
       "           EPOCH_TIME SOURCE_FOLDER Z_VALUE\n",
       "count          411543        411543  411543\n",
       "unique         411260             3    1120\n",
       "top     1630851379101  flat_streets    0.14\n",
       "freq                6        231240    3320"
      ]
     },
     "execution_count": 8,
     "metadata": {},
     "output_type": "execute_result"
    }
   ],
   "source": [
    "# Statistische Zusammenfassung\n",
    "df_filtered.describe()"
   ]
  },
  {
   "cell_type": "code",
   "execution_count": 9,
   "id": "b59fe1ba-2ef6-4dc0-9901-3862478c59d6",
   "metadata": {},
   "outputs": [
    {
     "name": "stdout",
     "output_type": "stream",
     "text": [
      "<class 'pandas.core.frame.DataFrame'>\n",
      "RangeIndex: 424240 entries, 0 to 424239\n",
      "Data columns (total 8 columns):\n",
      " #   Column             Non-Null Count   Dtype \n",
      "---  ------             --------------   ----- \n",
      " 0   EPOCH_TIME         424240 non-null  object\n",
      " 1   DEVICE_NAME        424240 non-null  object\n",
      " 2   SENSOR_TYPE        424240 non-null  object\n",
      " 3   MEASUREMENT_VALUE  424240 non-null  object\n",
      " 4   GPS_LAT            1485 non-null    object\n",
      " 5   GPS_LONG           1485 non-null    object\n",
      " 6   SOURCE_FOLDER      424240 non-null  object\n",
      " 7   Z_VALUE            411543 non-null  object\n",
      "dtypes: object(8)\n",
      "memory usage: 25.9+ MB\n"
     ]
    }
   ],
   "source": [
    "# Informationen über die Datentypen und Nullwerte\n",
    "df.info()"
   ]
  },
  {
   "cell_type": "code",
   "execution_count": 13,
   "id": "3a1d710b-f312-4aad-a914-c90d8fc4d286",
   "metadata": {},
   "outputs": [
    {
     "name": "stdout",
     "output_type": "stream",
     "text": [
      "EPOCH_TIME\n",
      "411260\n",
      "SOURCE_FOLDER\n",
      "3\n",
      "Z_VALUE\n",
      "1120\n"
     ]
    }
   ],
   "source": [
    "for col in df_filtered.columns:\n",
    "    print(col)\n",
    "    print(df_filtered[col] .nunique())"
   ]
  }
 ],
 "metadata": {
  "kernelspec": {
   "display_name": "Python 3 (ipykernel)",
   "language": "python",
   "name": "python3"
  },
  "language_info": {
   "codemirror_mode": {
    "name": "ipython",
    "version": 3
   },
   "file_extension": ".py",
   "mimetype": "text/x-python",
   "name": "python",
   "nbconvert_exporter": "python",
   "pygments_lexer": "ipython3",
   "version": "3.12.4"
  }
 },
 "nbformat": 4,
 "nbformat_minor": 5
}
